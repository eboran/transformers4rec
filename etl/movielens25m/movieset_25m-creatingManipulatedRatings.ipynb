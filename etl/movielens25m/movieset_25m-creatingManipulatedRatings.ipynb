{
 "cells": [
  {
   "cell_type": "code",
   "execution_count": 1,
   "id": "ffde8035",
   "metadata": {},
   "outputs": [],
   "source": [
    "import pandas as pd "
   ]
  },
  {
   "cell_type": "code",
   "execution_count": 2,
   "id": "cafa1e45",
   "metadata": {},
   "outputs": [],
   "source": [
    "import os \n",
    "from datetime import datetime"
   ]
  },
  {
   "cell_type": "code",
   "execution_count": 3,
   "id": "d48438c3",
   "metadata": {},
   "outputs": [],
   "source": [
    "path = \"ml-25m\""
   ]
  },
  {
   "cell_type": "markdown",
   "id": "93f7d4ec",
   "metadata": {},
   "source": [
    "# Dataset "
   ]
  },
  {
   "cell_type": "code",
   "execution_count": 4,
   "id": "e905d003",
   "metadata": {},
   "outputs": [],
   "source": [
    "rating = pd.read_csv(path + \"/\" + \"ratings.csv\")\n",
    "tag = pd.read_csv(path + \"/\" + \"tags.csv\")\n",
    "movie = pd.read_csv(path + \"/\" + \"movies.csv\")\n"
   ]
  },
  {
   "cell_type": "code",
   "execution_count": 6,
   "id": "589c5c80",
   "metadata": {},
   "outputs": [
    {
     "data": {
      "text/html": [
       "<div>\n",
       "<style scoped>\n",
       "    .dataframe tbody tr th:only-of-type {\n",
       "        vertical-align: middle;\n",
       "    }\n",
       "\n",
       "    .dataframe tbody tr th {\n",
       "        vertical-align: top;\n",
       "    }\n",
       "\n",
       "    .dataframe thead th {\n",
       "        text-align: right;\n",
       "    }\n",
       "</style>\n",
       "<table border=\"1\" class=\"dataframe\">\n",
       "  <thead>\n",
       "    <tr style=\"text-align: right;\">\n",
       "      <th></th>\n",
       "      <th>userId</th>\n",
       "      <th>movieId</th>\n",
       "      <th>rating</th>\n",
       "      <th>timestamp</th>\n",
       "    </tr>\n",
       "  </thead>\n",
       "  <tbody>\n",
       "    <tr>\n",
       "      <th>0</th>\n",
       "      <td>1</td>\n",
       "      <td>296</td>\n",
       "      <td>5.0</td>\n",
       "      <td>1147880044</td>\n",
       "    </tr>\n",
       "    <tr>\n",
       "      <th>1</th>\n",
       "      <td>1</td>\n",
       "      <td>306</td>\n",
       "      <td>3.5</td>\n",
       "      <td>1147868817</td>\n",
       "    </tr>\n",
       "    <tr>\n",
       "      <th>2</th>\n",
       "      <td>1</td>\n",
       "      <td>307</td>\n",
       "      <td>5.0</td>\n",
       "      <td>1147868828</td>\n",
       "    </tr>\n",
       "    <tr>\n",
       "      <th>3</th>\n",
       "      <td>1</td>\n",
       "      <td>665</td>\n",
       "      <td>5.0</td>\n",
       "      <td>1147878820</td>\n",
       "    </tr>\n",
       "    <tr>\n",
       "      <th>4</th>\n",
       "      <td>1</td>\n",
       "      <td>899</td>\n",
       "      <td>3.5</td>\n",
       "      <td>1147868510</td>\n",
       "    </tr>\n",
       "    <tr>\n",
       "      <th>...</th>\n",
       "      <td>...</td>\n",
       "      <td>...</td>\n",
       "      <td>...</td>\n",
       "      <td>...</td>\n",
       "    </tr>\n",
       "    <tr>\n",
       "      <th>25000090</th>\n",
       "      <td>162541</td>\n",
       "      <td>50872</td>\n",
       "      <td>4.5</td>\n",
       "      <td>1240953372</td>\n",
       "    </tr>\n",
       "    <tr>\n",
       "      <th>25000091</th>\n",
       "      <td>162541</td>\n",
       "      <td>55768</td>\n",
       "      <td>2.5</td>\n",
       "      <td>1240951998</td>\n",
       "    </tr>\n",
       "    <tr>\n",
       "      <th>25000092</th>\n",
       "      <td>162541</td>\n",
       "      <td>56176</td>\n",
       "      <td>2.0</td>\n",
       "      <td>1240950697</td>\n",
       "    </tr>\n",
       "    <tr>\n",
       "      <th>25000093</th>\n",
       "      <td>162541</td>\n",
       "      <td>58559</td>\n",
       "      <td>4.0</td>\n",
       "      <td>1240953434</td>\n",
       "    </tr>\n",
       "    <tr>\n",
       "      <th>25000094</th>\n",
       "      <td>162541</td>\n",
       "      <td>63876</td>\n",
       "      <td>5.0</td>\n",
       "      <td>1240952515</td>\n",
       "    </tr>\n",
       "  </tbody>\n",
       "</table>\n",
       "<p>25000095 rows × 4 columns</p>\n",
       "</div>"
      ],
      "text/plain": [
       "          userId  movieId  rating   timestamp\n",
       "0              1      296     5.0  1147880044\n",
       "1              1      306     3.5  1147868817\n",
       "2              1      307     5.0  1147868828\n",
       "3              1      665     5.0  1147878820\n",
       "4              1      899     3.5  1147868510\n",
       "...          ...      ...     ...         ...\n",
       "25000090  162541    50872     4.5  1240953372\n",
       "25000091  162541    55768     2.5  1240951998\n",
       "25000092  162541    56176     2.0  1240950697\n",
       "25000093  162541    58559     4.0  1240953434\n",
       "25000094  162541    63876     5.0  1240952515\n",
       "\n",
       "[25000095 rows x 4 columns]"
      ]
     },
     "execution_count": 6,
     "metadata": {},
     "output_type": "execute_result"
    }
   ],
   "source": [
    "rating"
   ]
  },
  {
   "cell_type": "code",
   "execution_count": 7,
   "id": "404257f8",
   "metadata": {},
   "outputs": [
    {
     "data": {
      "text/html": [
       "<div>\n",
       "<style scoped>\n",
       "    .dataframe tbody tr th:only-of-type {\n",
       "        vertical-align: middle;\n",
       "    }\n",
       "\n",
       "    .dataframe tbody tr th {\n",
       "        vertical-align: top;\n",
       "    }\n",
       "\n",
       "    .dataframe thead th {\n",
       "        text-align: right;\n",
       "    }\n",
       "</style>\n",
       "<table border=\"1\" class=\"dataframe\">\n",
       "  <thead>\n",
       "    <tr style=\"text-align: right;\">\n",
       "      <th></th>\n",
       "      <th>movieId</th>\n",
       "      <th>title</th>\n",
       "      <th>genres</th>\n",
       "    </tr>\n",
       "  </thead>\n",
       "  <tbody>\n",
       "    <tr>\n",
       "      <th>0</th>\n",
       "      <td>1</td>\n",
       "      <td>Toy Story (1995)</td>\n",
       "      <td>Adventure|Animation|Children|Comedy|Fantasy</td>\n",
       "    </tr>\n",
       "    <tr>\n",
       "      <th>1</th>\n",
       "      <td>2</td>\n",
       "      <td>Jumanji (1995)</td>\n",
       "      <td>Adventure|Children|Fantasy</td>\n",
       "    </tr>\n",
       "    <tr>\n",
       "      <th>2</th>\n",
       "      <td>3</td>\n",
       "      <td>Grumpier Old Men (1995)</td>\n",
       "      <td>Comedy|Romance</td>\n",
       "    </tr>\n",
       "    <tr>\n",
       "      <th>3</th>\n",
       "      <td>4</td>\n",
       "      <td>Waiting to Exhale (1995)</td>\n",
       "      <td>Comedy|Drama|Romance</td>\n",
       "    </tr>\n",
       "    <tr>\n",
       "      <th>4</th>\n",
       "      <td>5</td>\n",
       "      <td>Father of the Bride Part II (1995)</td>\n",
       "      <td>Comedy</td>\n",
       "    </tr>\n",
       "    <tr>\n",
       "      <th>...</th>\n",
       "      <td>...</td>\n",
       "      <td>...</td>\n",
       "      <td>...</td>\n",
       "    </tr>\n",
       "    <tr>\n",
       "      <th>62418</th>\n",
       "      <td>209157</td>\n",
       "      <td>We (2018)</td>\n",
       "      <td>Drama</td>\n",
       "    </tr>\n",
       "    <tr>\n",
       "      <th>62419</th>\n",
       "      <td>209159</td>\n",
       "      <td>Window of the Soul (2001)</td>\n",
       "      <td>Documentary</td>\n",
       "    </tr>\n",
       "    <tr>\n",
       "      <th>62420</th>\n",
       "      <td>209163</td>\n",
       "      <td>Bad Poems (2018)</td>\n",
       "      <td>Comedy|Drama</td>\n",
       "    </tr>\n",
       "    <tr>\n",
       "      <th>62421</th>\n",
       "      <td>209169</td>\n",
       "      <td>A Girl Thing (2001)</td>\n",
       "      <td>(no genres listed)</td>\n",
       "    </tr>\n",
       "    <tr>\n",
       "      <th>62422</th>\n",
       "      <td>209171</td>\n",
       "      <td>Women of Devil's Island (1962)</td>\n",
       "      <td>Action|Adventure|Drama</td>\n",
       "    </tr>\n",
       "  </tbody>\n",
       "</table>\n",
       "<p>62423 rows × 3 columns</p>\n",
       "</div>"
      ],
      "text/plain": [
       "       movieId                               title  \\\n",
       "0            1                    Toy Story (1995)   \n",
       "1            2                      Jumanji (1995)   \n",
       "2            3             Grumpier Old Men (1995)   \n",
       "3            4            Waiting to Exhale (1995)   \n",
       "4            5  Father of the Bride Part II (1995)   \n",
       "...        ...                                 ...   \n",
       "62418   209157                           We (2018)   \n",
       "62419   209159           Window of the Soul (2001)   \n",
       "62420   209163                    Bad Poems (2018)   \n",
       "62421   209169                 A Girl Thing (2001)   \n",
       "62422   209171      Women of Devil's Island (1962)   \n",
       "\n",
       "                                            genres  \n",
       "0      Adventure|Animation|Children|Comedy|Fantasy  \n",
       "1                       Adventure|Children|Fantasy  \n",
       "2                                   Comedy|Romance  \n",
       "3                             Comedy|Drama|Romance  \n",
       "4                                           Comedy  \n",
       "...                                            ...  \n",
       "62418                                        Drama  \n",
       "62419                                  Documentary  \n",
       "62420                                 Comedy|Drama  \n",
       "62421                           (no genres listed)  \n",
       "62422                       Action|Adventure|Drama  \n",
       "\n",
       "[62423 rows x 3 columns]"
      ]
     },
     "execution_count": 7,
     "metadata": {},
     "output_type": "execute_result"
    }
   ],
   "source": [
    "# filmlerin id'leri, isimleri, konuları \n",
    "movie"
   ]
  },
  {
   "cell_type": "code",
   "execution_count": 8,
   "id": "33fc500d",
   "metadata": {},
   "outputs": [
    {
     "data": {
      "text/html": [
       "<div>\n",
       "<style scoped>\n",
       "    .dataframe tbody tr th:only-of-type {\n",
       "        vertical-align: middle;\n",
       "    }\n",
       "\n",
       "    .dataframe tbody tr th {\n",
       "        vertical-align: top;\n",
       "    }\n",
       "\n",
       "    .dataframe thead th {\n",
       "        text-align: right;\n",
       "    }\n",
       "</style>\n",
       "<table border=\"1\" class=\"dataframe\">\n",
       "  <thead>\n",
       "    <tr style=\"text-align: right;\">\n",
       "      <th></th>\n",
       "      <th>userId</th>\n",
       "      <th>movieId</th>\n",
       "      <th>tag</th>\n",
       "      <th>timestamp</th>\n",
       "    </tr>\n",
       "  </thead>\n",
       "  <tbody>\n",
       "    <tr>\n",
       "      <th>0</th>\n",
       "      <td>3</td>\n",
       "      <td>260</td>\n",
       "      <td>classic</td>\n",
       "      <td>1439472355</td>\n",
       "    </tr>\n",
       "    <tr>\n",
       "      <th>1</th>\n",
       "      <td>3</td>\n",
       "      <td>260</td>\n",
       "      <td>sci-fi</td>\n",
       "      <td>1439472256</td>\n",
       "    </tr>\n",
       "    <tr>\n",
       "      <th>2</th>\n",
       "      <td>4</td>\n",
       "      <td>1732</td>\n",
       "      <td>dark comedy</td>\n",
       "      <td>1573943598</td>\n",
       "    </tr>\n",
       "    <tr>\n",
       "      <th>3</th>\n",
       "      <td>4</td>\n",
       "      <td>1732</td>\n",
       "      <td>great dialogue</td>\n",
       "      <td>1573943604</td>\n",
       "    </tr>\n",
       "    <tr>\n",
       "      <th>4</th>\n",
       "      <td>4</td>\n",
       "      <td>7569</td>\n",
       "      <td>so bad it's good</td>\n",
       "      <td>1573943455</td>\n",
       "    </tr>\n",
       "    <tr>\n",
       "      <th>...</th>\n",
       "      <td>...</td>\n",
       "      <td>...</td>\n",
       "      <td>...</td>\n",
       "      <td>...</td>\n",
       "    </tr>\n",
       "    <tr>\n",
       "      <th>1093355</th>\n",
       "      <td>162521</td>\n",
       "      <td>66934</td>\n",
       "      <td>Neil Patrick Harris</td>\n",
       "      <td>1427311611</td>\n",
       "    </tr>\n",
       "    <tr>\n",
       "      <th>1093356</th>\n",
       "      <td>162521</td>\n",
       "      <td>103341</td>\n",
       "      <td>cornetto trilogy</td>\n",
       "      <td>1427311259</td>\n",
       "    </tr>\n",
       "    <tr>\n",
       "      <th>1093357</th>\n",
       "      <td>162534</td>\n",
       "      <td>189169</td>\n",
       "      <td>comedy</td>\n",
       "      <td>1527518175</td>\n",
       "    </tr>\n",
       "    <tr>\n",
       "      <th>1093358</th>\n",
       "      <td>162534</td>\n",
       "      <td>189169</td>\n",
       "      <td>disabled</td>\n",
       "      <td>1527518181</td>\n",
       "    </tr>\n",
       "    <tr>\n",
       "      <th>1093359</th>\n",
       "      <td>162534</td>\n",
       "      <td>189169</td>\n",
       "      <td>robbery</td>\n",
       "      <td>1527518193</td>\n",
       "    </tr>\n",
       "  </tbody>\n",
       "</table>\n",
       "<p>1093360 rows × 4 columns</p>\n",
       "</div>"
      ],
      "text/plain": [
       "         userId  movieId                  tag   timestamp\n",
       "0             3      260              classic  1439472355\n",
       "1             3      260               sci-fi  1439472256\n",
       "2             4     1732          dark comedy  1573943598\n",
       "3             4     1732       great dialogue  1573943604\n",
       "4             4     7569     so bad it's good  1573943455\n",
       "...         ...      ...                  ...         ...\n",
       "1093355  162521    66934  Neil Patrick Harris  1427311611\n",
       "1093356  162521   103341     cornetto trilogy  1427311259\n",
       "1093357  162534   189169               comedy  1527518175\n",
       "1093358  162534   189169             disabled  1527518181\n",
       "1093359  162534   189169              robbery  1527518193\n",
       "\n",
       "[1093360 rows x 4 columns]"
      ]
     },
     "execution_count": 8,
     "metadata": {},
     "output_type": "execute_result"
    }
   ],
   "source": [
    "\n",
    "tag"
   ]
  },
  {
   "cell_type": "markdown",
   "id": "89b09ace",
   "metadata": {},
   "source": [
    "# Features "
   ]
  },
  {
   "cell_type": "markdown",
   "id": "dfdc6055",
   "metadata": {},
   "source": [
    "**movies**"
   ]
  },
  {
   "cell_type": "code",
   "execution_count": 10,
   "id": "c4897b32",
   "metadata": {},
   "outputs": [],
   "source": [
    "movie[\"_genres\"] =  movie[\"genres\"].apply(lambda x: x.split(\"|\")[0])"
   ]
  },
  {
   "cell_type": "code",
   "execution_count": 11,
   "id": "a2534cb8",
   "metadata": {},
   "outputs": [
    {
     "data": {
      "text/html": [
       "<div>\n",
       "<style scoped>\n",
       "    .dataframe tbody tr th:only-of-type {\n",
       "        vertical-align: middle;\n",
       "    }\n",
       "\n",
       "    .dataframe tbody tr th {\n",
       "        vertical-align: top;\n",
       "    }\n",
       "\n",
       "    .dataframe thead th {\n",
       "        text-align: right;\n",
       "    }\n",
       "</style>\n",
       "<table border=\"1\" class=\"dataframe\">\n",
       "  <thead>\n",
       "    <tr style=\"text-align: right;\">\n",
       "      <th></th>\n",
       "      <th>movieId</th>\n",
       "      <th>_genres</th>\n",
       "    </tr>\n",
       "  </thead>\n",
       "  <tbody>\n",
       "    <tr>\n",
       "      <th>0</th>\n",
       "      <td>1</td>\n",
       "      <td>Adventure</td>\n",
       "    </tr>\n",
       "    <tr>\n",
       "      <th>1</th>\n",
       "      <td>2</td>\n",
       "      <td>Adventure</td>\n",
       "    </tr>\n",
       "    <tr>\n",
       "      <th>2</th>\n",
       "      <td>3</td>\n",
       "      <td>Comedy</td>\n",
       "    </tr>\n",
       "    <tr>\n",
       "      <th>3</th>\n",
       "      <td>4</td>\n",
       "      <td>Comedy</td>\n",
       "    </tr>\n",
       "    <tr>\n",
       "      <th>4</th>\n",
       "      <td>5</td>\n",
       "      <td>Comedy</td>\n",
       "    </tr>\n",
       "    <tr>\n",
       "      <th>...</th>\n",
       "      <td>...</td>\n",
       "      <td>...</td>\n",
       "    </tr>\n",
       "    <tr>\n",
       "      <th>62418</th>\n",
       "      <td>209157</td>\n",
       "      <td>Drama</td>\n",
       "    </tr>\n",
       "    <tr>\n",
       "      <th>62419</th>\n",
       "      <td>209159</td>\n",
       "      <td>Documentary</td>\n",
       "    </tr>\n",
       "    <tr>\n",
       "      <th>62420</th>\n",
       "      <td>209163</td>\n",
       "      <td>Comedy</td>\n",
       "    </tr>\n",
       "    <tr>\n",
       "      <th>62421</th>\n",
       "      <td>209169</td>\n",
       "      <td>(no genres listed)</td>\n",
       "    </tr>\n",
       "    <tr>\n",
       "      <th>62422</th>\n",
       "      <td>209171</td>\n",
       "      <td>Action</td>\n",
       "    </tr>\n",
       "  </tbody>\n",
       "</table>\n",
       "<p>62423 rows × 2 columns</p>\n",
       "</div>"
      ],
      "text/plain": [
       "       movieId             _genres\n",
       "0            1           Adventure\n",
       "1            2           Adventure\n",
       "2            3              Comedy\n",
       "3            4              Comedy\n",
       "4            5              Comedy\n",
       "...        ...                 ...\n",
       "62418   209157               Drama\n",
       "62419   209159         Documentary\n",
       "62420   209163              Comedy\n",
       "62421   209169  (no genres listed)\n",
       "62422   209171              Action\n",
       "\n",
       "[62423 rows x 2 columns]"
      ]
     },
     "execution_count": 11,
     "metadata": {},
     "output_type": "execute_result"
    }
   ],
   "source": [
    "_movie = movie[[\"movieId\", \"_genres\"]]\n",
    "_movie"
   ]
  },
  {
   "cell_type": "markdown",
   "id": "060b0aec",
   "metadata": {},
   "source": [
    "**tags**"
   ]
  },
  {
   "cell_type": "code",
   "execution_count": null,
   "id": "fb1abba6",
   "metadata": {},
   "outputs": [],
   "source": [
    "_tag = tag.groupby(['userId','movieId']).first().reset_index()[[\"userId\",'movieId','tag']]\n",
    "_tag"
   ]
  },
  {
   "cell_type": "markdown",
   "id": "e8b8bb42",
   "metadata": {},
   "source": [
    "**genome_tags**"
   ]
  },
  {
   "cell_type": "code",
   "execution_count": null,
   "id": "6a13668c",
   "metadata": {},
   "outputs": [],
   "source": [
    "\n",
    "genome_scores = pd.read_csv(path + \"/\" + \"genome-scores.csv\")\n",
    "genome_tags = pd.read_csv(path + \"/\" + \"genome-tags.csv\")\n"
   ]
  },
  {
   "cell_type": "code",
   "execution_count": null,
   "id": "b6bbb433",
   "metadata": {},
   "outputs": [],
   "source": [
    "genome_tags"
   ]
  },
  {
   "cell_type": "code",
   "execution_count": null,
   "id": "1db32c6a",
   "metadata": {},
   "outputs": [],
   "source": [
    "genome_scores"
   ]
  },
  {
   "cell_type": "code",
   "execution_count": null,
   "id": "f35e119f",
   "metadata": {},
   "outputs": [],
   "source": [
    "_genome = pd.merge(genome_scores, genome_tags, on = 'tagId')\n"
   ]
  },
  {
   "cell_type": "code",
   "execution_count": null,
   "id": "5569569c",
   "metadata": {},
   "outputs": [],
   "source": [
    "_genome = _genome.groupby('movieId', group_keys=False).apply(lambda x: x.loc[x.relevance.idxmax()]).reset_index(drop=True)"
   ]
  },
  {
   "cell_type": "code",
   "execution_count": null,
   "id": "8d09b0f5",
   "metadata": {},
   "outputs": [],
   "source": [
    "_genome = pd.merge(_genome, genome_tags, on = ['tagId','tag'], how = 'left').rename(columns = \n",
    "                                                                                    {\"tag\":\"genome_tag\",\n",
    "                                                                                    \"relevance\": \"genome_relevance\"}\n",
    "                                                                                   \n",
    "                                                                                   ).drop(columns = {\n",
    "    \"tagId\"\n",
    "})\n",
    "_genome"
   ]
  },
  {
   "cell_type": "markdown",
   "id": "d825a91f",
   "metadata": {},
   "source": [
    "**concat features**"
   ]
  },
  {
   "cell_type": "code",
   "execution_count": null,
   "id": "215dfef9",
   "metadata": {},
   "outputs": [],
   "source": [
    "_genome"
   ]
  },
  {
   "cell_type": "code",
   "execution_count": null,
   "id": "b496ad3c",
   "metadata": {},
   "outputs": [],
   "source": [
    "_tag"
   ]
  },
  {
   "cell_type": "code",
   "execution_count": null,
   "id": "7436f6b3",
   "metadata": {},
   "outputs": [],
   "source": [
    "_movie"
   ]
  },
  {
   "cell_type": "code",
   "execution_count": null,
   "id": "b42d9048",
   "metadata": {},
   "outputs": [],
   "source": [
    "rating = pd.read_csv(path + \"/\" + \"ratings.csv\")\n",
    "rating"
   ]
  },
  {
   "cell_type": "code",
   "execution_count": null,
   "id": "d00d523c",
   "metadata": {},
   "outputs": [],
   "source": [
    "\n",
    "rating = pd.merge(rating, _movie, on ='movieId', how = 'left')\n",
    "rating"
   ]
  },
  {
   "cell_type": "code",
   "execution_count": null,
   "id": "096ca0f3",
   "metadata": {
    "scrolled": false
   },
   "outputs": [],
   "source": [
    "rating = pd.merge(rating, _tag, on =['movieId','userId'], how = 'left')\n",
    "rating"
   ]
  },
  {
   "cell_type": "code",
   "execution_count": null,
   "id": "54a58689",
   "metadata": {
    "scrolled": true
   },
   "outputs": [],
   "source": [
    "rating= pd.merge(rating, _genome, on =[\"movieId\"], how = \"left\")\n",
    "rating"
   ]
  },
  {
   "cell_type": "code",
   "execution_count": null,
   "id": "4ca72a84",
   "metadata": {
    "scrolled": true
   },
   "outputs": [],
   "source": [
    "rating[\"tag\"] = rating[\"tag\"].fillna(\"None\")\n",
    "rating[\"_genres\"] = rating[\"_genres\"].fillna(\"None\")\n",
    "rating[\"genome_tag\"] = rating[\"genome_tag\"].fillna(\"None\")\n",
    "rating[\"genome_relevance\"] = rating[\"genome_relevance\"].fillna(0)\n",
    "rating[\"rating\"] = rating[\"rating\"].fillna(0)\n",
    "rating\n"
   ]
  },
  {
   "cell_type": "code",
   "execution_count": null,
   "id": "bd2fd4d4",
   "metadata": {},
   "outputs": [],
   "source": [
    "rating._genres.nunique()"
   ]
  },
  {
   "cell_type": "code",
   "execution_count": null,
   "id": "f70ad3de",
   "metadata": {},
   "outputs": [],
   "source": [
    "rating.genome_tag.nunique()"
   ]
  },
  {
   "cell_type": "code",
   "execution_count": null,
   "id": "f08db691",
   "metadata": {},
   "outputs": [],
   "source": [
    "rating.tag.nunique()"
   ]
  },
  {
   "cell_type": "code",
   "execution_count": null,
   "id": "2dafb069",
   "metadata": {},
   "outputs": [],
   "source": [
    "rating[\"timestamp\"] = rating[\"timestamp\"].apply(lambda x: datetime.fromtimestamp(x))"
   ]
  },
  {
   "cell_type": "code",
   "execution_count": null,
   "id": "1fbacea9",
   "metadata": {},
   "outputs": [],
   "source": [
    "rating = rating.sort_values([\"userId\", \"timestamp\"], ascending =[True, True])"
   ]
  },
  {
   "cell_type": "code",
   "execution_count": null,
   "id": "297eac02",
   "metadata": {},
   "outputs": [],
   "source": [
    "rating"
   ]
  },
  {
   "cell_type": "code",
   "execution_count": null,
   "id": "e5fea6ca",
   "metadata": {},
   "outputs": [],
   "source": [
    "rating.to_csv(\"manipulated_rating.csv\", index=False)"
   ]
  },
  {
   "cell_type": "code",
   "execution_count": null,
   "id": "358e49c8",
   "metadata": {},
   "outputs": [],
   "source": [
    "!pwd"
   ]
  },
  {
   "cell_type": "code",
   "execution_count": null,
   "id": "4a1602b3",
   "metadata": {},
   "outputs": [],
   "source": []
  },
  {
   "cell_type": "code",
   "execution_count": null,
   "id": "ef06c426",
   "metadata": {},
   "outputs": [],
   "source": []
  },
  {
   "cell_type": "code",
   "execution_count": null,
   "id": "5f3ed66c",
   "metadata": {},
   "outputs": [],
   "source": []
  }
 ],
 "metadata": {
  "kernelspec": {
   "display_name": "Python (myenv)",
   "language": "python",
   "name": "python39"
  },
  "language_info": {
   "codemirror_mode": {
    "name": "ipython",
    "version": 3
   },
   "file_extension": ".py",
   "mimetype": "text/x-python",
   "name": "python",
   "nbconvert_exporter": "python",
   "pygments_lexer": "ipython3",
   "version": "3.9.12"
  }
 },
 "nbformat": 4,
 "nbformat_minor": 5
}
